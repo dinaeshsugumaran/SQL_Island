{
 "cells": [
  {
   "cell_type": "code",
   "execution_count": 1,
   "metadata": {},
   "outputs": [],
   "source": [
    "import pandas as pd\n",
    "import mysql.connector"
   ]
  },
  {
   "cell_type": "code",
   "execution_count": 2,
   "metadata": {},
   "outputs": [],
   "source": [
    "conn = mysql.connector.connect(\n",
    "    host=\"localhost\",\n",
    "    database=\"SQL_Island\",\n",
    "    user=\"root\",\n",
    "    password=\"Welcome100\" )\n",
    "    \n",
    "mycursor = conn.cursor()"
   ]
  },
  {
   "cell_type": "code",
   "execution_count": 6,
   "metadata": {},
   "outputs": [
    {
     "name": "stdout",
     "output_type": "stream",
     "text": [
      "   0             1   2\n",
      "0  1    Monkeycity   1\n",
      "1  2  Cucumbertown   6\n",
      "2  3    Onionville  13\n"
     ]
    }
   ],
   "source": [
    "# story starts here\n",
    "# The GUY, after the plain crash, he is stuck in the island. \n",
    "# Luckyly he found few other survivors in the island\n",
    "# and using SQL we gonna help him survive in the island. Let\n",
    "\n",
    "#1) Lets see who are all in the village\n",
    "mycursor.execute(\"select * from village\")\n",
    "islands = mycursor.fetchall()\n",
    "df = pd.DataFrame(islands)\n",
    "print(df)"
   ]
  },
  {
   "cell_type": "code",
   "execution_count": 7,
   "metadata": {},
   "outputs": [
    {
     "name": "stdout",
     "output_type": "stream",
     "text": [
      "     0                  1  2  3            4     5          6\n",
      "0    1      Paul Bakerman  1  m        baker   850   friendly\n",
      "1    2       Ernest Perry  3  m  weaponsmith   280   friendly\n",
      "2    3            Rita Ox  1  f        baker   350   friendly\n",
      "3    4            Carl Ox  1  m     merchant   250   friendly\n",
      "4    5       Dirty Dieter  3  m        smith   650       evil\n",
      "5    6  Gerry Slaughterer  2  m      butcher  4850       evil\n",
      "6    7  Peter Slaughterer  3  m      butcher  3250       evil\n",
      "7    8      Arthur Tailor  2  m        pilot   490  kidnapped\n",
      "8    9    Tiffany Drummer  1  f        baker   550       evil\n",
      "9   10      Peter Drummer  1  m        smith   600   friendly\n",
      "10  11        Dirty Diane  3  f       farmer    10       evil\n",
      "11  12     Otto Alexander  2  m       dealer   680   friendly\n",
      "12  13           Fred Dix  3  m       author   420   friendly\n",
      "13  14   Enrico Carpenter  3  m  weaponsmith   510       evil\n",
      "14  15    Helen Grasshead  2  f       dealer   680   friendly\n",
      "15  16         Ivy Hatter  1  f       dealer   770       evil\n",
      "16  17   Edward Grasshead  3  m      butcher   990   friendly\n",
      "17  18         Ryan Horse  3  m   blacksmith   390   friendly\n",
      "18  19          Ann Meaty  2  f      butcher  2280   friendly\n"
     ]
    }
   ],
   "source": [
    "# 2) Lets see who are all the inhabitants in these islands\n",
    "\n",
    "mycursor.execute(\"select * from inhabitant\")\n",
    "inhabitants = mycursor.fetchall()\n",
    "df = pd.DataFrame(inhabitants)\n",
    "print(df)"
   ]
  },
  {
   "cell_type": "code",
   "execution_count": 8,
   "metadata": {},
   "outputs": [
    {
     "name": "stdout",
     "output_type": "stream",
     "text": [
      "     0                 1  2  3            4     5         6\n",
      "0    1     Paul Bakerman  1  m        baker   850  friendly\n",
      "1    2      Ernest Perry  3  m  weaponsmith   280  friendly\n",
      "2    3           Rita Ox  1  f        baker   350  friendly\n",
      "3    4           Carl Ox  1  m     merchant   250  friendly\n",
      "4   10     Peter Drummer  1  m        smith   600  friendly\n",
      "5   12    Otto Alexander  2  m       dealer   680  friendly\n",
      "6   13          Fred Dix  3  m       author   420  friendly\n",
      "7   15   Helen Grasshead  2  f       dealer   680  friendly\n",
      "8   17  Edward Grasshead  3  m      butcher   990  friendly\n",
      "9   18        Ryan Horse  3  m   blacksmith   390  friendly\n",
      "10  19         Ann Meaty  2  f      butcher  2280  friendly\n"
     ]
    }
   ],
   "source": [
    "# 3) The GUY is hungry, he wants to eat something. He reached buthcher for food\n",
    "# The Butcher suggets to go to a Friendly Butcher.\n",
    "# Lets see who are all the friendly people in the islands.\n",
    "\n",
    "mycursor.execute(\"select * from inhabitant where state = 'friendly'\")\n",
    "friendly = mycursor.fetchall()\n",
    "df = pd.DataFrame(friendly)\n",
    "print(df)"
   ]
  },
  {
   "cell_type": "code",
   "execution_count": 9,
   "metadata": {},
   "outputs": [
    {
     "name": "stdout",
     "output_type": "stream",
     "text": [
      "   0             1  2  3            4    5         6\n",
      "0  2  Ernest Perry  3  m  weaponsmith  280  friendly\n"
     ]
    }
   ],
   "source": [
    "# 4) The GUY wants a sword. He is gonna reach weaponsmith to get a weapon.\n",
    "\n",
    "mycursor.execute(\"select * from inhabitant where state = 'friendly' and job = 'weaponsmith'\")\n",
    "weapon = mycursor.fetchall()\n",
    "df = pd.DataFrame(weapon)\n",
    "print(df)"
   ]
  },
  {
   "cell_type": "code",
   "execution_count": 11,
   "metadata": {},
   "outputs": [
    {
     "name": "stdout",
     "output_type": "stream",
     "text": [
      "    0              1  2  3            4    5         6\n",
      "0   2   Ernest Perry  3  m  weaponsmith  280  friendly\n",
      "1  10  Peter Drummer  1  m        smith  600  friendly\n",
      "2  18     Ryan Horse  3  m   blacksmith  390  friendly\n"
     ]
    }
   ],
   "source": [
    "# 5) The GUY wants a sword. He is gonna reach weaponsmith to get a weapon.\n",
    "# another option! The Guy can reach any type of smiths can help to get weapon.\n",
    "\n",
    "mycursor.execute(\"select * from inhabitant where state = 'friendly' and job like '%smith'\")\n",
    "weapon_smiths = mycursor.fetchall()\n",
    "df = pd.DataFrame(weapon_smiths)\n",
    "print(df)"
   ]
  },
  {
   "cell_type": "code",
   "execution_count": null,
   "metadata": {},
   "outputs": [],
   "source": [
    "# 6) The GUY wants to register his name in the database.\n",
    "\n",
    "mycursor.execute(\"INSERT INTO inhabitant (name, villageid, gender, job, gold, state) VALUES ('Stranger', 1, '?', '?', 0, '?')\")\n",
    "mycursor.execute(\"commit\")\n",
    "mycursor.execute(\"select * from inhabitant\")\n",
    "registration = mycursor.fetchall()\n",
    "df = pd.DataFrame(registration)\n",
    "print(df)"
   ]
  },
  {
   "cell_type": "code",
   "execution_count": 14,
   "metadata": {},
   "outputs": [
    {
     "name": "stdout",
     "output_type": "stream",
     "text": [
      "    0\n",
      "0  20\n"
     ]
    }
   ],
   "source": [
    "# 7) The GUY wants to rknow is person id\n",
    "\n",
    "mycursor.execute(\"select personid from inhabitant where name ='Stranger'\")\n",
    "personid = mycursor.fetchall()\n",
    "df = pd.DataFrame(personid)\n",
    "print(df)"
   ]
  }
 ],
 "metadata": {
  "interpreter": {
   "hash": "40d3a090f54c6569ab1632332b64b2c03c39dcf918b08424e98f38b5ae0af88f"
  },
  "kernelspec": {
   "display_name": "Python 3.9.7 ('base')",
   "language": "python",
   "name": "python3"
  },
  "language_info": {
   "codemirror_mode": {
    "name": "ipython",
    "version": 3
   },
   "file_extension": ".py",
   "mimetype": "text/x-python",
   "name": "python",
   "nbconvert_exporter": "python",
   "pygments_lexer": "ipython3",
   "version": "3.9.7"
  },
  "orig_nbformat": 4
 },
 "nbformat": 4,
 "nbformat_minor": 2
}
